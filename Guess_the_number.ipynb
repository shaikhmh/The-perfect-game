{
  "nbformat": 4,
  "nbformat_minor": 0,
  "metadata": {
    "colab": {
      "provenance": []
    },
    "kernelspec": {
      "name": "python3",
      "display_name": "Python 3"
    },
    "language_info": {
      "name": "python"
    }
  },
  "cells": [
    {
      "cell_type": "code",
      "execution_count": 2,
      "metadata": {
        "id": "1TF29SUiLw80",
        "colab": {
          "base_uri": "https://localhost:8080/"
        },
        "outputId": "56bc39cd-9308-4864-b1b3-da200312318b"
      },
      "outputs": [
        {
          "output_type": "stream",
          "name": "stdout",
          "text": [
            "Guess the number3\n",
            "higher number please\n",
            "Guess the number10\n",
            "lower number please\n",
            "Guess the number7\n",
            "higher number please\n",
            "Guess the number8\n",
            "higher number please\n",
            "You guessed the number in 4 guesses\n"
          ]
        }
      ],
      "source": [
        "import random\n",
        "n=random.randint(1,10)\n",
        "a=-1\n",
        "guess=0\n",
        "while (a!=n):\n",
        "  guess+=1\n",
        "  a=int(input(\"Guess the number\"))\n",
        "  if(a>n):\n",
        "    print(\"lower number please\")\n",
        "  else:\n",
        "    print(\"higher number please\")\n",
        "print(\"You guessed the number in\",guess,\"guesses\")"
      ]
    }
  ]
}